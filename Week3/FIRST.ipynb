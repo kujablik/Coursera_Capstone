{
 "cells": [
  {
   "cell_type": "markdown",
   "metadata": {},
   "source": [
    "# Peer-graded Assignment: Segmenting and Clustering Neighborhoods in Toronto (<font color=\"red\">the first stage</font>)"
   ]
  },
  {
   "cell_type": "code",
   "execution_count": 1,
   "metadata": {},
   "outputs": [],
   "source": [
    "import pandas as pd\n",
    "import numpy as np\n",
    "import requests\n",
    "from bs4 import BeautifulSoup"
   ]
  },
  {
   "cell_type": "markdown",
   "metadata": {},
   "source": [
    "### Get the data from Wiki"
   ]
  },
  {
   "cell_type": "code",
   "execution_count": 2,
   "metadata": {},
   "outputs": [],
   "source": [
    "html_resp = requests.get('https://en.wikipedia.org/wiki/List_of_postal_codes_of_Canada:_M')\n",
    "soup = BeautifulSoup(html_resp.content, 'html.parser')"
   ]
  },
  {
   "cell_type": "markdown",
   "metadata": {},
   "source": [
    "### Get post codes table"
   ]
  },
  {
   "cell_type": "code",
   "execution_count": 3,
   "metadata": {},
   "outputs": [],
   "source": [
    "tables = soup.findAll('table')\n",
    "table = None\n",
    "for t in tables:\n",
    "    th_list = set(th.text.rstrip().upper() for th in t.findAll('th'))\n",
    "    if len(th_list & {'POSTCODE', 'NEIGHBOURHOOD', 'BOROUGH' }) == 3:\n",
    "        table = t\n",
    "        break;\n",
    "if table is None:\n",
    "    raise RuntimeError(\"Can not obtain table!\")"
   ]
  },
  {
   "cell_type": "markdown",
   "metadata": {},
   "source": [
    "### Convert to DataFrame. Clean 'Not Assigned', group data etc (use x.upper() is not necessary in this case, but sometimes  it's a good practice)"
   ]
  },
  {
   "cell_type": "code",
   "execution_count": 4,
   "metadata": {},
   "outputs": [],
   "source": [
    "post_codes_df = pd.read_html(str(table))[0]\n",
    "# rename columns\n",
    "post_codes_df.columns = ['PostalCode','Borough','Neighborhood']\n",
    "# remove empty rows\n",
    "post_codes_df = post_codes_df[post_codes_df['Borough'].apply(lambda x: x.upper()) != 'NOT ASSIGNED']\n",
    "# assign 'Borough' to 'Neighborhood' where the value is 'Not assigned'\n",
    "post_codes_df['Neighborhood'] = np.where(post_codes_df['Neighborhood'].apply(lambda x: x.upper()) ==  'NOT ASSIGNED',\n",
    "    post_codes_df['Borough'],\n",
    "    post_codes_df['Neighborhood'])\n",
    "# group by 'PostalCode' \n",
    "post_codes_df = post_codes_df.groupby(['PostalCode','Borough'])['Neighborhood'].apply(','.join).to_frame().reset_index()"
   ]
  },
  {
   "cell_type": "markdown",
   "metadata": {},
   "source": [
    "### Print Shape (total rows)"
   ]
  },
  {
   "cell_type": "code",
   "execution_count": 5,
   "metadata": {},
   "outputs": [
    {
     "data": {
      "text/plain": [
       "103"
      ]
     },
     "execution_count": 5,
     "metadata": {},
     "output_type": "execute_result"
    }
   ],
   "source": [
    "post_codes_df.shape[0]"
   ]
  }
 ],
 "metadata": {
  "kernelspec": {
   "display_name": "Python 3",
   "language": "python",
   "name": "python3"
  },
  "language_info": {
   "codemirror_mode": {
    "name": "ipython",
    "version": 3
   },
   "file_extension": ".py",
   "mimetype": "text/x-python",
   "name": "python",
   "nbconvert_exporter": "python",
   "pygments_lexer": "ipython3",
   "version": "3.6.8"
  }
 },
 "nbformat": 4,
 "nbformat_minor": 2
}
